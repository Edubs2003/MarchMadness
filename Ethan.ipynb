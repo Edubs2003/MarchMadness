{
 "cells": [
  {
   "cell_type": "code",
   "execution_count": 5,
   "metadata": {},
   "outputs": [],
   "source": [
    "import pandas as pd\n",
    "\n",
    "cbb3 = pd.read_csv('cbb_trial1.csv', encoding='latin-1')\n",
    "cbb3['TEAM'] = cbb3['TEAM'].str.replace('Ê', '')\n",
    "cbb3['REC'] = cbb3['REC'].str.replace('Ð', '–')\n",
    "cbb3 = cbb3.drop(cbb3.index[10695:], axis=0)\n",
    "cbb3.reset_index(drop=True, inplace=True)\n",
    "cbb3['SEED'] = None\n",
    "cbb3['FINISH'] = None\n",
    "\n",
    "# Iterate through the DataFrame\n",
    "for index, row in cbb3.iterrows():\n",
    "    if pd.notna(row['TEAM']) and 'seed' in row['TEAM']:\n",
    "        # In this part, we extract SEED and FINISH information\n",
    "        seed_part = row['TEAM'].split(' seed')[0].lstrip('Ê')  # We were getting an error saying we still had Ê before some integers, so we remove them with this line\n",
    "        seed = int(seed_part) if seed_part.isdigit() else None  # Convert to integer, handling non-numeric values\n",
    "        finish = row['TEAM'].split(',')[1]\n",
    "        \n",
    "        # Here, we update the values in the row above\n",
    "        if index > 0:\n",
    "            cbb3.at[index - 1, 'SEED'] = seed\n",
    "            cbb3.at[index - 1, 'FINISH'] = finish\n",
    "\n",
    "cbb3.reset_index(drop=True, inplace=True)\n",
    "cbb3.drop('BARTHAG', axis=1, inplace=True)\n",
    "cbb3[['WINS', 'LOSSES']] = cbb3['REC'].str.split('–', expand=True).apply(pd.to_numeric, errors='coerce')\n",
    "cbb3['G'] = pd.to_numeric(cbb3['G'], errors='coerce')\n",
    "cbb3.loc[:, 'ADJOE':'WAB'] = cbb3.loc[:, 'ADJOE':'WAB'].apply(pd.to_numeric, errors='coerce')\n",
    "cbb3['SEED'] = pd.to_numeric(cbb3['SEED'], errors='coerce')\n",
    "cbb3.to_csv('cbb_edited.csv')\n"
   ]
  },
  {
   "cell_type": "code",
   "execution_count": 43,
   "metadata": {},
   "outputs": [],
   "source": [
    "df = pd.read_csv('cbb_edited.csv')\n",
    "df = df.drop('Unnamed: 0', axis=1)\n",
    "df = df.dropna(subset=['YEAR'])\n",
    "df = df.dropna(subset=['FINISH'])\n",
    "df['FINISH'] = df['FINISH'].str.strip()\n",
    "df[df['FINISH'].astype(str) == 'R68']\n",
    "filter = df['FINISH'] != 'R68'\n",
    "df = df[filter]\n",
    "df.to_csv('March_Madness.csv')"
   ]
  }
 ],
 "metadata": {
  "kernelspec": {
   "display_name": "Python 3",
   "language": "python",
   "name": "python3"
  },
  "language_info": {
   "codemirror_mode": {
    "name": "ipython",
    "version": 3
   },
   "file_extension": ".py",
   "mimetype": "text/x-python",
   "name": "python",
   "nbconvert_exporter": "python",
   "pygments_lexer": "ipython3",
   "version": "3.12.0"
  }
 },
 "nbformat": 4,
 "nbformat_minor": 2
}
